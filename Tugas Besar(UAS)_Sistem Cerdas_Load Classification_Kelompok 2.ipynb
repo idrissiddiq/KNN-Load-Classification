{
  "nbformat": 4,
  "nbformat_minor": 0,
  "metadata": {
    "colab": {
      "name": "Load Classification.ipynb",
      "provenance": [],
      "collapsed_sections": []
    },
    "kernelspec": {
      "name": "python3",
      "display_name": "Python 3"
    },
    "language_info": {
      "name": "python"
    }
  },
  "cells": [
    {
      "cell_type": "code",
      "execution_count": null,
      "metadata": {
        "id": "d6VpgIN7wF5w"
      },
      "outputs": [],
      "source": [
        "#Proses Import Library\n",
        "\n",
        "#numpy library untuk proses komputasi numering\n",
        "import numpy as np\n",
        "#pandas merupakan library untuk mengolah tabel data\n",
        "import pandas as pd\n",
        "#matplotlib untuk memvisualisasikan data dan menampilkan grafik\n",
        "import matplotlib.pyplot as plt\n",
        "#seaborn berfungsi sebagai library untuk membandingkan hubungan antara 2 variabel dalam satu grafik\n",
        "import seaborn as sns\n",
        "#melakukan konfigurasi pada grafik sns, seperti model garid, warna garis dll.\n",
        "sns.set()\n",
        "#warning library dengan fungsi untuk memberikan himbauan bahwa ada beberapa code sudah tidak digunakan lagi \n",
        "import warnings\n",
        "warnings.filterwarnings('ignore')\n",
        "#sklearn preprocessing berfungsi untuk menstandarisasi dataset\n",
        "from sklearn.preprocessing import StandardScaler\n",
        "#sklearn.model_selection untuk melakukan pembagian data random train dan test subsets\n",
        "from sklearn.model_selection import train_test_split\n",
        "#sklearn neighbors untuk memanggil fungsi-fungsi unsupervised dan supervised learning\n",
        "from sklearn.neighbors import KNeighborsClassifier\n",
        "#sklearn.metrics untuk mengimplementasikan fungsi several loss, score dan utility untuk mengevaluasi performance klasifikasi\n",
        "from sklearn.metrics import confusion_matrix\n",
        "#library dibawah untuk menghubungkan google colab dan google drive\n",
        "from google.colab import drive\n",
        "#Menvisualisasikan data berupa grafik pada frontend\n",
        "%matplotlib inline\n"
      ]
    },
    {
      "cell_type": "markdown",
      "source": [
        "#### Diketahui\n",
        "beban_1 = Air Conditioner\n",
        "\n",
        "beban_2 = Lampu\n",
        "\n",
        "beban_3 = Projector\n",
        "\n",
        "beban_4 = Komputer\n",
        "\n",
        "beban_5 = Charger Laptop\n",
        "\n",
        "beban_6 = Kipas angin"
      ],
      "metadata": {
        "id": "I0ww-hvT0o-q"
      }
    },
    {
      "cell_type": "code",
      "source": [
        "#proses untuk menghubungkan google colab dan google drive\n",
        "drive.mount('/content/drive')\n"
      ],
      "metadata": {
        "colab": {
          "base_uri": "https://localhost:8080/"
        },
        "id": "X2JsukE_wVny",
        "outputId": "bfbbeb94-4fea-4d43-8496-9cf80a2afc63"
      },
      "execution_count": null,
      "outputs": [
        {
          "output_type": "stream",
          "name": "stdout",
          "text": [
            "Mounted at /content/drive\n"
          ]
        }
      ]
    },
    {
      "cell_type": "code",
      "source": [
        "#code berikut untuk membaca dataset pada gdrive dan dipindahkan menjadi variabel Load\n",
        "\n",
        "load = pd.read_csv(r\"/content/drive/MyDrive/SISTEM CERDAS/fiturbebanlengkap.csv\")\n",
        "\n",
        "#proses berikut untuk mengambil data dari kolom ke 5 hingga akhir\n",
        "load = load.drop(load.iloc[:,:5], axis=1)\n",
        "\n",
        "#untuk menampilkan 5 baris data pertama variabel Load\n",
        "load.head()"
      ],
      "metadata": {
        "colab": {
          "base_uri": "https://localhost:8080/",
          "height": 206
        },
        "id": "BRbkY5dfRhJm",
        "outputId": "3acbb753-8a11-47e1-c0f2-d67ce225068c"
      },
      "execution_count": null,
      "outputs": [
        {
          "output_type": "execute_result",
          "data": {
            "text/plain": [
              "    activepower   reactivepower   apparentpower  Label\n",
              "0         303.1          303.02          303.02      1\n",
              "1         303.1          303.02          303.02      1\n",
              "2         303.1          303.02          303.02      1\n",
              "3         303.0          303.02          303.02      1\n",
              "4         303.0          303.02          303.02      1"
            ],
            "text/html": [
              "\n",
              "  <div id=\"df-70fe76d0-697c-4d11-aad9-603bd068abba\">\n",
              "    <div class=\"colab-df-container\">\n",
              "      <div>\n",
              "<style scoped>\n",
              "    .dataframe tbody tr th:only-of-type {\n",
              "        vertical-align: middle;\n",
              "    }\n",
              "\n",
              "    .dataframe tbody tr th {\n",
              "        vertical-align: top;\n",
              "    }\n",
              "\n",
              "    .dataframe thead th {\n",
              "        text-align: right;\n",
              "    }\n",
              "</style>\n",
              "<table border=\"1\" class=\"dataframe\">\n",
              "  <thead>\n",
              "    <tr style=\"text-align: right;\">\n",
              "      <th></th>\n",
              "      <th>activepower</th>\n",
              "      <th>reactivepower</th>\n",
              "      <th>apparentpower</th>\n",
              "      <th>Label</th>\n",
              "    </tr>\n",
              "  </thead>\n",
              "  <tbody>\n",
              "    <tr>\n",
              "      <th>0</th>\n",
              "      <td>303.1</td>\n",
              "      <td>303.02</td>\n",
              "      <td>303.02</td>\n",
              "      <td>1</td>\n",
              "    </tr>\n",
              "    <tr>\n",
              "      <th>1</th>\n",
              "      <td>303.1</td>\n",
              "      <td>303.02</td>\n",
              "      <td>303.02</td>\n",
              "      <td>1</td>\n",
              "    </tr>\n",
              "    <tr>\n",
              "      <th>2</th>\n",
              "      <td>303.1</td>\n",
              "      <td>303.02</td>\n",
              "      <td>303.02</td>\n",
              "      <td>1</td>\n",
              "    </tr>\n",
              "    <tr>\n",
              "      <th>3</th>\n",
              "      <td>303.0</td>\n",
              "      <td>303.02</td>\n",
              "      <td>303.02</td>\n",
              "      <td>1</td>\n",
              "    </tr>\n",
              "    <tr>\n",
              "      <th>4</th>\n",
              "      <td>303.0</td>\n",
              "      <td>303.02</td>\n",
              "      <td>303.02</td>\n",
              "      <td>1</td>\n",
              "    </tr>\n",
              "  </tbody>\n",
              "</table>\n",
              "</div>\n",
              "      <button class=\"colab-df-convert\" onclick=\"convertToInteractive('df-70fe76d0-697c-4d11-aad9-603bd068abba')\"\n",
              "              title=\"Convert this dataframe to an interactive table.\"\n",
              "              style=\"display:none;\">\n",
              "        \n",
              "  <svg xmlns=\"http://www.w3.org/2000/svg\" height=\"24px\"viewBox=\"0 0 24 24\"\n",
              "       width=\"24px\">\n",
              "    <path d=\"M0 0h24v24H0V0z\" fill=\"none\"/>\n",
              "    <path d=\"M18.56 5.44l.94 2.06.94-2.06 2.06-.94-2.06-.94-.94-2.06-.94 2.06-2.06.94zm-11 1L8.5 8.5l.94-2.06 2.06-.94-2.06-.94L8.5 2.5l-.94 2.06-2.06.94zm10 10l.94 2.06.94-2.06 2.06-.94-2.06-.94-.94-2.06-.94 2.06-2.06.94z\"/><path d=\"M17.41 7.96l-1.37-1.37c-.4-.4-.92-.59-1.43-.59-.52 0-1.04.2-1.43.59L10.3 9.45l-7.72 7.72c-.78.78-.78 2.05 0 2.83L4 21.41c.39.39.9.59 1.41.59.51 0 1.02-.2 1.41-.59l7.78-7.78 2.81-2.81c.8-.78.8-2.07 0-2.86zM5.41 20L4 18.59l7.72-7.72 1.47 1.35L5.41 20z\"/>\n",
              "  </svg>\n",
              "      </button>\n",
              "      \n",
              "  <style>\n",
              "    .colab-df-container {\n",
              "      display:flex;\n",
              "      flex-wrap:wrap;\n",
              "      gap: 12px;\n",
              "    }\n",
              "\n",
              "    .colab-df-convert {\n",
              "      background-color: #E8F0FE;\n",
              "      border: none;\n",
              "      border-radius: 50%;\n",
              "      cursor: pointer;\n",
              "      display: none;\n",
              "      fill: #1967D2;\n",
              "      height: 32px;\n",
              "      padding: 0 0 0 0;\n",
              "      width: 32px;\n",
              "    }\n",
              "\n",
              "    .colab-df-convert:hover {\n",
              "      background-color: #E2EBFA;\n",
              "      box-shadow: 0px 1px 2px rgba(60, 64, 67, 0.3), 0px 1px 3px 1px rgba(60, 64, 67, 0.15);\n",
              "      fill: #174EA6;\n",
              "    }\n",
              "\n",
              "    [theme=dark] .colab-df-convert {\n",
              "      background-color: #3B4455;\n",
              "      fill: #D2E3FC;\n",
              "    }\n",
              "\n",
              "    [theme=dark] .colab-df-convert:hover {\n",
              "      background-color: #434B5C;\n",
              "      box-shadow: 0px 1px 3px 1px rgba(0, 0, 0, 0.15);\n",
              "      filter: drop-shadow(0px 1px 2px rgba(0, 0, 0, 0.3));\n",
              "      fill: #FFFFFF;\n",
              "    }\n",
              "  </style>\n",
              "\n",
              "      <script>\n",
              "        const buttonEl =\n",
              "          document.querySelector('#df-70fe76d0-697c-4d11-aad9-603bd068abba button.colab-df-convert');\n",
              "        buttonEl.style.display =\n",
              "          google.colab.kernel.accessAllowed ? 'block' : 'none';\n",
              "\n",
              "        async function convertToInteractive(key) {\n",
              "          const element = document.querySelector('#df-70fe76d0-697c-4d11-aad9-603bd068abba');\n",
              "          const dataTable =\n",
              "            await google.colab.kernel.invokeFunction('convertToInteractive',\n",
              "                                                     [key], {});\n",
              "          if (!dataTable) return;\n",
              "\n",
              "          const docLinkHtml = 'Like what you see? Visit the ' +\n",
              "            '<a target=\"_blank\" href=https://colab.research.google.com/notebooks/data_table.ipynb>data table notebook</a>'\n",
              "            + ' to learn more about interactive tables.';\n",
              "          element.innerHTML = '';\n",
              "          dataTable['output_type'] = 'display_data';\n",
              "          await google.colab.output.renderOutput(dataTable, element);\n",
              "          const docLink = document.createElement('div');\n",
              "          docLink.innerHTML = docLinkHtml;\n",
              "          element.appendChild(docLink);\n",
              "        }\n",
              "      </script>\n",
              "    </div>\n",
              "  </div>\n",
              "  "
            ]
          },
          "metadata": {},
          "execution_count": 3
        }
      ]
    },
    {
      "cell_type": "code",
      "source": [
        "load.shape \n",
        "#untuk melihat bentuk dari data set, dimana dataset ini terdiri dari 4 kolom dan 87792 baris"
      ],
      "metadata": {
        "colab": {
          "base_uri": "https://localhost:8080/"
        },
        "id": "y7mJlQu5wj_n",
        "outputId": "3a77a030-f8ae-4f05-f85f-a28d3952b434"
      },
      "execution_count": null,
      "outputs": [
        {
          "output_type": "execute_result",
          "data": {
            "text/plain": [
              "(87792, 4)"
            ]
          },
          "metadata": {},
          "execution_count": 4
        }
      ]
    },
    {
      "cell_type": "code",
      "source": [
        "#proses berikut menginformasikan jumlah data null, colom, penggunaan memory, jenis data dan lainnya pada dataset\n",
        "load.info(verbose=True)"
      ],
      "metadata": {
        "colab": {
          "base_uri": "https://localhost:8080/"
        },
        "id": "7raQtSRMwpkt",
        "outputId": "b511105a-3892-448a-c85c-ec526a3604a3"
      },
      "execution_count": null,
      "outputs": [
        {
          "output_type": "stream",
          "name": "stdout",
          "text": [
            "<class 'pandas.core.frame.DataFrame'>\n",
            "RangeIndex: 87792 entries, 0 to 87791\n",
            "Data columns (total 4 columns):\n",
            " #   Column          Non-Null Count  Dtype  \n",
            "---  ------          --------------  -----  \n",
            " 0    activepower    87792 non-null  float64\n",
            " 1    reactivepower  87792 non-null  float64\n",
            " 2    apparentpower  87792 non-null  float64\n",
            " 3   Label           87792 non-null  int64  \n",
            "dtypes: float64(3), int64(1)\n",
            "memory usage: 2.7 MB\n"
          ]
        }
      ]
    },
    {
      "cell_type": "code",
      "source": [
        "#mengkopi dari variabel Load menjadi variabel Load_copy\n",
        "load_copy=load.copy(deep=True)\n",
        "#untuk mengambil 3 kolom pertama dari variabel Load_copy\n",
        "load_copy=load_copy.iloc[:, 0:3]\n",
        "#untuk memeriksa apakah ada data null atau tidak\n",
        "print(load_copy.isnull().sum())\n"
      ],
      "metadata": {
        "colab": {
          "base_uri": "https://localhost:8080/"
        },
        "id": "J8YlRfYOxufO",
        "outputId": "274791b1-2cd3-40a8-fbc5-62622bed725b"
      },
      "execution_count": null,
      "outputs": [
        {
          "output_type": "stream",
          "name": "stdout",
          "text": [
            " activepower      0\n",
            " reactivepower    0\n",
            " apparentpower    0\n",
            "dtype: int64\n"
          ]
        }
      ]
    },
    {
      "cell_type": "code",
      "source": [
        "dg=load.groupby('Label').agg(['count', 'mean','std','min','max','median']).T\n",
        "dg\n",
        "\n",
        "#untuk mengelompokan data berdasarkan kolom \"label\", dan menampilkan jumlah, rata-rata, standar deviasi, nilai minimal, nilai maksimal, dan nilai tengah"
      ],
      "metadata": {
        "colab": {
          "base_uri": "https://localhost:8080/",
          "height": 614
        },
        "id": "9pG4ZoKUx3ZG",
        "outputId": "a56ba7db-235a-45e7-a3b1-44726595508f"
      },
      "execution_count": null,
      "outputs": [
        {
          "output_type": "execute_result",
          "data": {
            "text/plain": [
              "Label                            1             2            3             4  \\\n",
              " activepower   count   4440.000000  32656.000000  4152.000000  32548.000000   \n",
              "               mean      54.409775     61.180631    39.904167     59.289794   \n",
              "               std      115.777480     66.382305    29.183763    131.792491   \n",
              "               min        1.300000      1.100000     2.300000      0.800000   \n",
              "               max      312.300000    720.800000    70.900000    376.100000   \n",
              "               median     1.500000      1.200000    61.800000      0.900000   \n",
              " reactivepower count   4440.000000  32656.000000  4152.000000  32548.000000   \n",
              "               mean      60.780944    121.808746    67.665195     66.211303   \n",
              "               std      112.877923    123.855313    41.891392    128.871826   \n",
              "               min        9.048000      8.940000    13.710000      6.744000   \n",
              "               max      313.161000    840.560000   109.536000    375.750000   \n",
              "               median     9.140000      9.212000   100.320000      9.188000   \n",
              " apparentpower count   4440.000000  32656.000000  4152.000000  32548.000000   \n",
              "               mean      54.571281     61.270197    39.743329     59.351909   \n",
              "               std      115.712290     66.310347    29.184655    131.718722   \n",
              "               min        1.460480      1.177800     2.062800      0.675300   \n",
              "               max      313.161000    722.881600    71.198400    375.750000   \n",
              "               median     1.643760      1.377000    62.198400      1.014200   \n",
              "\n",
              "Label                            5            6  \n",
              " activepower   count   8334.000000  5662.000000  \n",
              "               mean      32.491637   681.878241  \n",
              "               std       10.816431   101.857708  \n",
              "               min       16.500000    38.700000  \n",
              "               max       54.200000   716.500000  \n",
              "               median    28.700000   700.200000  \n",
              " reactivepower count   8334.000000  5662.000000  \n",
              "               mean      60.067627   685.919746  \n",
              "               std       18.624729    81.813904  \n",
              "               min       31.906000    73.120000  \n",
              "               max       94.874000   717.120000  \n",
              "               median    53.245000   700.280000  \n",
              " apparentpower count   8334.000000  5662.000000  \n",
              "               mean      32.483737   682.090463  \n",
              "               std       10.768352   101.921042  \n",
              "               min       15.953000    38.022400  \n",
              "               max       54.078180   717.120000  \n",
              "               median    28.866240   700.280000  "
            ],
            "text/html": [
              "\n",
              "  <div id=\"df-448108d9-09cf-4090-bf8f-0ff2767f9e63\">\n",
              "    <div class=\"colab-df-container\">\n",
              "      <div>\n",
              "<style scoped>\n",
              "    .dataframe tbody tr th:only-of-type {\n",
              "        vertical-align: middle;\n",
              "    }\n",
              "\n",
              "    .dataframe tbody tr th {\n",
              "        vertical-align: top;\n",
              "    }\n",
              "\n",
              "    .dataframe thead th {\n",
              "        text-align: right;\n",
              "    }\n",
              "</style>\n",
              "<table border=\"1\" class=\"dataframe\">\n",
              "  <thead>\n",
              "    <tr style=\"text-align: right;\">\n",
              "      <th></th>\n",
              "      <th>Label</th>\n",
              "      <th>1</th>\n",
              "      <th>2</th>\n",
              "      <th>3</th>\n",
              "      <th>4</th>\n",
              "      <th>5</th>\n",
              "      <th>6</th>\n",
              "    </tr>\n",
              "  </thead>\n",
              "  <tbody>\n",
              "    <tr>\n",
              "      <th rowspan=\"6\" valign=\"top\">activepower</th>\n",
              "      <th>count</th>\n",
              "      <td>4440.000000</td>\n",
              "      <td>32656.000000</td>\n",
              "      <td>4152.000000</td>\n",
              "      <td>32548.000000</td>\n",
              "      <td>8334.000000</td>\n",
              "      <td>5662.000000</td>\n",
              "    </tr>\n",
              "    <tr>\n",
              "      <th>mean</th>\n",
              "      <td>54.409775</td>\n",
              "      <td>61.180631</td>\n",
              "      <td>39.904167</td>\n",
              "      <td>59.289794</td>\n",
              "      <td>32.491637</td>\n",
              "      <td>681.878241</td>\n",
              "    </tr>\n",
              "    <tr>\n",
              "      <th>std</th>\n",
              "      <td>115.777480</td>\n",
              "      <td>66.382305</td>\n",
              "      <td>29.183763</td>\n",
              "      <td>131.792491</td>\n",
              "      <td>10.816431</td>\n",
              "      <td>101.857708</td>\n",
              "    </tr>\n",
              "    <tr>\n",
              "      <th>min</th>\n",
              "      <td>1.300000</td>\n",
              "      <td>1.100000</td>\n",
              "      <td>2.300000</td>\n",
              "      <td>0.800000</td>\n",
              "      <td>16.500000</td>\n",
              "      <td>38.700000</td>\n",
              "    </tr>\n",
              "    <tr>\n",
              "      <th>max</th>\n",
              "      <td>312.300000</td>\n",
              "      <td>720.800000</td>\n",
              "      <td>70.900000</td>\n",
              "      <td>376.100000</td>\n",
              "      <td>54.200000</td>\n",
              "      <td>716.500000</td>\n",
              "    </tr>\n",
              "    <tr>\n",
              "      <th>median</th>\n",
              "      <td>1.500000</td>\n",
              "      <td>1.200000</td>\n",
              "      <td>61.800000</td>\n",
              "      <td>0.900000</td>\n",
              "      <td>28.700000</td>\n",
              "      <td>700.200000</td>\n",
              "    </tr>\n",
              "    <tr>\n",
              "      <th rowspan=\"6\" valign=\"top\">reactivepower</th>\n",
              "      <th>count</th>\n",
              "      <td>4440.000000</td>\n",
              "      <td>32656.000000</td>\n",
              "      <td>4152.000000</td>\n",
              "      <td>32548.000000</td>\n",
              "      <td>8334.000000</td>\n",
              "      <td>5662.000000</td>\n",
              "    </tr>\n",
              "    <tr>\n",
              "      <th>mean</th>\n",
              "      <td>60.780944</td>\n",
              "      <td>121.808746</td>\n",
              "      <td>67.665195</td>\n",
              "      <td>66.211303</td>\n",
              "      <td>60.067627</td>\n",
              "      <td>685.919746</td>\n",
              "    </tr>\n",
              "    <tr>\n",
              "      <th>std</th>\n",
              "      <td>112.877923</td>\n",
              "      <td>123.855313</td>\n",
              "      <td>41.891392</td>\n",
              "      <td>128.871826</td>\n",
              "      <td>18.624729</td>\n",
              "      <td>81.813904</td>\n",
              "    </tr>\n",
              "    <tr>\n",
              "      <th>min</th>\n",
              "      <td>9.048000</td>\n",
              "      <td>8.940000</td>\n",
              "      <td>13.710000</td>\n",
              "      <td>6.744000</td>\n",
              "      <td>31.906000</td>\n",
              "      <td>73.120000</td>\n",
              "    </tr>\n",
              "    <tr>\n",
              "      <th>max</th>\n",
              "      <td>313.161000</td>\n",
              "      <td>840.560000</td>\n",
              "      <td>109.536000</td>\n",
              "      <td>375.750000</td>\n",
              "      <td>94.874000</td>\n",
              "      <td>717.120000</td>\n",
              "    </tr>\n",
              "    <tr>\n",
              "      <th>median</th>\n",
              "      <td>9.140000</td>\n",
              "      <td>9.212000</td>\n",
              "      <td>100.320000</td>\n",
              "      <td>9.188000</td>\n",
              "      <td>53.245000</td>\n",
              "      <td>700.280000</td>\n",
              "    </tr>\n",
              "    <tr>\n",
              "      <th rowspan=\"6\" valign=\"top\">apparentpower</th>\n",
              "      <th>count</th>\n",
              "      <td>4440.000000</td>\n",
              "      <td>32656.000000</td>\n",
              "      <td>4152.000000</td>\n",
              "      <td>32548.000000</td>\n",
              "      <td>8334.000000</td>\n",
              "      <td>5662.000000</td>\n",
              "    </tr>\n",
              "    <tr>\n",
              "      <th>mean</th>\n",
              "      <td>54.571281</td>\n",
              "      <td>61.270197</td>\n",
              "      <td>39.743329</td>\n",
              "      <td>59.351909</td>\n",
              "      <td>32.483737</td>\n",
              "      <td>682.090463</td>\n",
              "    </tr>\n",
              "    <tr>\n",
              "      <th>std</th>\n",
              "      <td>115.712290</td>\n",
              "      <td>66.310347</td>\n",
              "      <td>29.184655</td>\n",
              "      <td>131.718722</td>\n",
              "      <td>10.768352</td>\n",
              "      <td>101.921042</td>\n",
              "    </tr>\n",
              "    <tr>\n",
              "      <th>min</th>\n",
              "      <td>1.460480</td>\n",
              "      <td>1.177800</td>\n",
              "      <td>2.062800</td>\n",
              "      <td>0.675300</td>\n",
              "      <td>15.953000</td>\n",
              "      <td>38.022400</td>\n",
              "    </tr>\n",
              "    <tr>\n",
              "      <th>max</th>\n",
              "      <td>313.161000</td>\n",
              "      <td>722.881600</td>\n",
              "      <td>71.198400</td>\n",
              "      <td>375.750000</td>\n",
              "      <td>54.078180</td>\n",
              "      <td>717.120000</td>\n",
              "    </tr>\n",
              "    <tr>\n",
              "      <th>median</th>\n",
              "      <td>1.643760</td>\n",
              "      <td>1.377000</td>\n",
              "      <td>62.198400</td>\n",
              "      <td>1.014200</td>\n",
              "      <td>28.866240</td>\n",
              "      <td>700.280000</td>\n",
              "    </tr>\n",
              "  </tbody>\n",
              "</table>\n",
              "</div>\n",
              "      <button class=\"colab-df-convert\" onclick=\"convertToInteractive('df-448108d9-09cf-4090-bf8f-0ff2767f9e63')\"\n",
              "              title=\"Convert this dataframe to an interactive table.\"\n",
              "              style=\"display:none;\">\n",
              "        \n",
              "  <svg xmlns=\"http://www.w3.org/2000/svg\" height=\"24px\"viewBox=\"0 0 24 24\"\n",
              "       width=\"24px\">\n",
              "    <path d=\"M0 0h24v24H0V0z\" fill=\"none\"/>\n",
              "    <path d=\"M18.56 5.44l.94 2.06.94-2.06 2.06-.94-2.06-.94-.94-2.06-.94 2.06-2.06.94zm-11 1L8.5 8.5l.94-2.06 2.06-.94-2.06-.94L8.5 2.5l-.94 2.06-2.06.94zm10 10l.94 2.06.94-2.06 2.06-.94-2.06-.94-.94-2.06-.94 2.06-2.06.94z\"/><path d=\"M17.41 7.96l-1.37-1.37c-.4-.4-.92-.59-1.43-.59-.52 0-1.04.2-1.43.59L10.3 9.45l-7.72 7.72c-.78.78-.78 2.05 0 2.83L4 21.41c.39.39.9.59 1.41.59.51 0 1.02-.2 1.41-.59l7.78-7.78 2.81-2.81c.8-.78.8-2.07 0-2.86zM5.41 20L4 18.59l7.72-7.72 1.47 1.35L5.41 20z\"/>\n",
              "  </svg>\n",
              "      </button>\n",
              "      \n",
              "  <style>\n",
              "    .colab-df-container {\n",
              "      display:flex;\n",
              "      flex-wrap:wrap;\n",
              "      gap: 12px;\n",
              "    }\n",
              "\n",
              "    .colab-df-convert {\n",
              "      background-color: #E8F0FE;\n",
              "      border: none;\n",
              "      border-radius: 50%;\n",
              "      cursor: pointer;\n",
              "      display: none;\n",
              "      fill: #1967D2;\n",
              "      height: 32px;\n",
              "      padding: 0 0 0 0;\n",
              "      width: 32px;\n",
              "    }\n",
              "\n",
              "    .colab-df-convert:hover {\n",
              "      background-color: #E2EBFA;\n",
              "      box-shadow: 0px 1px 2px rgba(60, 64, 67, 0.3), 0px 1px 3px 1px rgba(60, 64, 67, 0.15);\n",
              "      fill: #174EA6;\n",
              "    }\n",
              "\n",
              "    [theme=dark] .colab-df-convert {\n",
              "      background-color: #3B4455;\n",
              "      fill: #D2E3FC;\n",
              "    }\n",
              "\n",
              "    [theme=dark] .colab-df-convert:hover {\n",
              "      background-color: #434B5C;\n",
              "      box-shadow: 0px 1px 3px 1px rgba(0, 0, 0, 0.15);\n",
              "      filter: drop-shadow(0px 1px 2px rgba(0, 0, 0, 0.3));\n",
              "      fill: #FFFFFF;\n",
              "    }\n",
              "  </style>\n",
              "\n",
              "      <script>\n",
              "        const buttonEl =\n",
              "          document.querySelector('#df-448108d9-09cf-4090-bf8f-0ff2767f9e63 button.colab-df-convert');\n",
              "        buttonEl.style.display =\n",
              "          google.colab.kernel.accessAllowed ? 'block' : 'none';\n",
              "\n",
              "        async function convertToInteractive(key) {\n",
              "          const element = document.querySelector('#df-448108d9-09cf-4090-bf8f-0ff2767f9e63');\n",
              "          const dataTable =\n",
              "            await google.colab.kernel.invokeFunction('convertToInteractive',\n",
              "                                                     [key], {});\n",
              "          if (!dataTable) return;\n",
              "\n",
              "          const docLinkHtml = 'Like what you see? Visit the ' +\n",
              "            '<a target=\"_blank\" href=https://colab.research.google.com/notebooks/data_table.ipynb>data table notebook</a>'\n",
              "            + ' to learn more about interactive tables.';\n",
              "          element.innerHTML = '';\n",
              "          dataTable['output_type'] = 'display_data';\n",
              "          await google.colab.output.renderOutput(dataTable, element);\n",
              "          const docLink = document.createElement('div');\n",
              "          docLink.innerHTML = docLinkHtml;\n",
              "          element.appendChild(docLink);\n",
              "        }\n",
              "      </script>\n",
              "    </div>\n",
              "  </div>\n",
              "  "
            ]
          },
          "metadata": {},
          "execution_count": 8
        }
      ]
    },
    {
      "cell_type": "code",
      "source": [
        "#untuk menampilkan diagram batang jumlah data pada setiap label\n",
        "print(load.Label.value_counts().plot(kind='bar'))"
      ],
      "metadata": {
        "colab": {
          "base_uri": "https://localhost:8080/",
          "height": 282
        },
        "id": "fJ86VQh6yKJc",
        "outputId": "4d7cb68c-103c-4141-fd70-e84183329edb"
      },
      "execution_count": null,
      "outputs": [
        {
          "output_type": "stream",
          "name": "stdout",
          "text": [
            "AxesSubplot(0.125,0.125;0.775x0.755)\n"
          ]
        },
        {
          "output_type": "display_data",
          "data": {
            "text/plain": [
              "<Figure size 432x288 with 1 Axes>"
            ],
            "image/png": "[encoded data removed]"
          },
          "metadata": {
            "needs_background": "light"
          }
        }
      ]
    },
    {
      "cell_type": "code",
      "source": [
        "#proses ini untuk menstandarisasi data\n",
        "scX=StandardScaler()\n",
        "X=pd.DataFrame(scX.fit_transform(load_copy),\n",
        "    columns=['activepower', 'reactivepower','apparentpower'])\n",
        "print(X)"
      ],
      "metadata": {
        "colab": {
          "base_uri": "https://localhost:8080/"
        },
        "id": "rOtF0Fd81DsI",
        "outputId": "32aee6b0-9d86-49d4-a82b-d0f6cc8a43ec"
      },
      "execution_count": null,
      "outputs": [
        {
          "output_type": "stream",
          "name": "stdout",
          "text": [
            "       activepower  reactivepower  apparentpower\n",
            "0         1.134483       0.940552       1.133635\n",
            "1         1.134483       0.940552       1.133635\n",
            "2         1.134483       0.940552       1.133635\n",
            "3         1.133934       0.940552       1.133635\n",
            "4         1.133934       0.940552       1.133635\n",
            "...            ...            ...            ...\n",
            "87787     3.328113       3.070471       3.333316\n",
            "87788     3.330858       3.072220       3.335122\n",
            "87789     3.330309       3.072220       3.335122\n",
            "87790     3.330309       3.072220       3.335122\n",
            "87791     3.329760       3.070471       3.333316\n",
            "\n",
            "[87792 rows x 3 columns]\n"
          ]
        }
      ]
    },
    {
      "cell_type": "code",
      "source": [
        "#y sebagai indikasi label\n",
        "y=load.Label\n",
        "print(y)"
      ],
      "metadata": {
        "id": "sTSMUMCF19wf",
        "colab": {
          "base_uri": "https://localhost:8080/"
        },
        "outputId": "c1225060-fe95-43e7-b4ef-09cdcc67fee7"
      },
      "execution_count": null,
      "outputs": [
        {
          "output_type": "stream",
          "name": "stdout",
          "text": [
            "0        1\n",
            "1        1\n",
            "2        1\n",
            "3        1\n",
            "4        1\n",
            "        ..\n",
            "87787    6\n",
            "87788    6\n",
            "87789    6\n",
            "87790    6\n",
            "87791    6\n",
            "Name: Label, Length: 87792, dtype: int64\n"
          ]
        }
      ]
    },
    {
      "cell_type": "code",
      "source": [
        "#code berikut untuk membagi data test dan data train, pada simulasi ini data test sebanyak 1/3 dan data train sebanyak 2/3\n",
        "X_train,X_test,y_train,y_test = train_test_split(X,y,test_size=1/3,random_state=42, stratify=y)"
      ],
      "metadata": {
        "id": "g1C2AcW9Op7a"
      },
      "execution_count": null,
      "outputs": []
    },
    {
      "cell_type": "code",
      "source": [
        "#proses ini berfungsi untuk mencari nilai K terbaik, yang diawali dengan inisiasi array test dan train score\n",
        "test_scores = []\n",
        "train_scores = []\n",
        "#melakukan looping sebnyak 15 kali, untuk mencari nilai K terbaik antara 1-15\n",
        "for i in range(1,15):\n",
        "\n",
        "#inisialisasi nilai K terhadap i dimana i adalah jumlah perulangan atau looping\n",
        "    knn = KNeighborsClassifier(i)\n",
        "#untuk melakukan proses training dan meneruskan parameter hasil training pada data testing\n",
        "    knn.fit(X_train,y_train)\n",
        "#untuk menambahakan score training pada array train_scores    \n",
        "    train_scores.append(knn.score(X_train,y_train))\n",
        " #untuk menambahakan score testing pada array test_scores    \n",
        "    test_scores.append(knn.score(X_test,y_test))\n",
        "\n",
        "print(test_scores)\n",
        "print(train_scores)"
      ],
      "metadata": {
        "id": "kUlfV5j5Ot8L",
        "colab": {
          "base_uri": "https://localhost:8080/"
        },
        "outputId": "fd8dd3b4-bfb0-4e85-80f3-e783f8840842"
      },
      "execution_count": null,
      "outputs": [
        {
          "output_type": "stream",
          "name": "stdout",
          "text": [
            "[0.9991457080371788, 0.9990431930016402, 0.9988039912520503, 0.9986673045379989, 0.9986673045379989, 0.9982572443958447, 0.9983255877528704, 0.9982572443958447, 0.9981547293603061, 0.9980180426462548, 0.9979838709677419, 0.9977788408966648, 0.9976763258611263, 0.9973687807545106]\n",
            "[0.9999145708037179, 0.9995728540185894, 0.999316566429743, 0.9992653089119737, 0.9989577638053582, 0.9988381629305632, 0.9986160470202297, 0.9984622744669218, 0.9983939311098962, 0.9982059868780755, 0.9982572443958447, 0.9981376435210497, 0.9980009568069984, 0.9979155276107162]\n"
          ]
        }
      ]
    },
    {
      "cell_type": "code",
      "source": [
        "#memindahkan nilai maksimum pada arry test_score ke max_test_score\n",
        "max_test_score = max(test_scores)\n",
        "#mencari indeks pada max_test_score dengan cara melakukan perulangan dan di cek satupersatu apakah nilai pada indeks tersebut sama dengan max_test_score\n",
        "test_scores_ind = [i for i, v in enumerate(test_scores) if v == max_test_score]\n",
        "#untuk menampilkan max test score beserta nilai K nya\n",
        "print('Max test score {} % and k = {}'.format(max_test_score*100,list(map(lambda x: x+1, test_scores_ind))))"
      ],
      "metadata": {
        "colab": {
          "base_uri": "https://localhost:8080/"
        },
        "id": "EC68KIIQO6wz",
        "outputId": "b6b97b43-0877-47d3-868b-b81dad8d4126"
      },
      "execution_count": null,
      "outputs": [
        {
          "output_type": "stream",
          "name": "stdout",
          "text": [
            "Max test score 99.91457080371788 % and k = [1]\n"
          ]
        }
      ]
    },
    {
      "cell_type": "code",
      "source": [
        "#memindahkan nilai maksimum pada arry train_score ke max_train_score\n",
        "max_train_score = max(train_scores)\n",
        "#mencari indeks pada max_train_score dengan cara melakukan perulangan dan di cek satupersatu apakah nilai pada indeks tersebut sama dengan max_train_score\n",
        "train_scores_ind = [i for i, v in enumerate(train_scores) if v == max_train_score]\n",
        "#untuk menampilkan max train score beserta nilai K nya\n",
        "print('Max train score {} % and k = {}'.format(max_train_score*100,list(map(lambda x: x+1, train_scores_ind))))"
      ],
      "metadata": {
        "colab": {
          "base_uri": "https://localhost:8080/"
        },
        "id": "wewxZB_w8ylZ",
        "outputId": "13488081-f3c2-4005-d996-33cea7fe9b64"
      },
      "execution_count": null,
      "outputs": [
        {
          "output_type": "stream",
          "name": "stdout",
          "text": [
            "Max train score 99.99145708037179 % and k = [1]\n"
          ]
        }
      ]
    },
    {
      "cell_type": "code",
      "source": [
        "#menginisialisasikan ukuran grafik\n",
        "plt.figure(figsize=(12,5))\n",
        "#menambahkan data berupa lineplot yang bersisi data test scores dan train scores dari k=1 s/d k=15\n",
        "p = sns.lineplot(range(1,15),test_scores,marker='o',label='Test Score')\n",
        "p = sns.lineplot(range(1,15),train_scores,marker='o',label='Train Score')"
      ],
      "metadata": {
        "colab": {
          "base_uri": "https://localhost:8080/",
          "height": 322
        },
        "id": "ZjRNrMoWQurJ",
        "outputId": "34f1d2c5-c410-4534-dc9c-f0d8ab884e31"
      },
      "execution_count": null,
      "outputs": [
        {
          "output_type": "display_data",
          "data": {
            "text/plain": [
              "<Figure size 864x360 with 1 Axes>"
            ],
            "image/png": "[encoded data removed]"
          },
          "metadata": {
            "needs_background": "light"
          }
        }
      ]
    },
    {
      "cell_type": "code",
      "source": [
        "#berdasarkan langkah diatas, kami melakukan klasifikasi dengan menggunakan nilai K=1 \n",
        "knn = KNeighborsClassifier(1)\n",
        "\n",
        "knn.fit(X_train,y_train)\n",
        "knn.score(X_test,y_test)"
      ],
      "metadata": {
        "colab": {
          "base_uri": "https://localhost:8080/"
        },
        "id": "vSQ6WMdpQ9Lw",
        "outputId": "5fdc9335-e33f-4f70-a255-b68e96cc7086"
      },
      "execution_count": null,
      "outputs": [
        {
          "output_type": "execute_result",
          "data": {
            "text/plain": [
              "0.9991457080371788"
            ]
          },
          "metadata": {},
          "execution_count": 47
        }
      ]
    },
    {
      "cell_type": "code",
      "source": [
        "#hasil dari klasifikasi pada proses diatas akan ditampilkan menjadi confusion matrix yang dapat dilihat pada output matrix berikut\n",
        "y_pred = knn.predict(X_test)\n",
        "confusion_matrix(y_test,y_pred)\n",
        "pd.crosstab(y_test, y_pred, rownames=['Actual'], colnames=['Predicted'], margins=True)"
      ],
      "metadata": {
        "colab": {
          "base_uri": "https://localhost:8080/",
          "height": 300
        },
        "id": "Z0WHPSXfRERP",
        "outputId": "bfe2e396-932f-47ff-f77a-b902bace98f1"
      },
      "execution_count": null,
      "outputs": [
        {
          "output_type": "execute_result",
          "data": {
            "text/plain": [
              "Predicted     1      2     3      4     5     6    All\n",
              "Actual                                                \n",
              "1          1475      1     0      3     1     0   1480\n",
              "2             1  10856     2      3     2    22  10886\n",
              "3             0      0  1380      0     4     0   1384\n",
              "4            11      2     9  10819     8     0  10849\n",
              "5             0      0     0      0  2778     0   2778\n",
              "6             0      8     0      0     0  1879   1887\n",
              "All        1487  10867  1391  10825  2793  1901  29264"
            ],
            "text/html": [
              "\n",
              "  <div id=\"df-3bc5f167-d1d7-4e8e-86b6-4031485cf188\">\n",
              "    <div class=\"colab-df-container\">\n",
              "      <div>\n",
              "<style scoped>\n",
              "    .dataframe tbody tr th:only-of-type {\n",
              "        vertical-align: middle;\n",
              "    }\n",
              "\n",
              "    .dataframe tbody tr th {\n",
              "        vertical-align: top;\n",
              "    }\n",
              "\n",
              "    .dataframe thead th {\n",
              "        text-align: right;\n",
              "    }\n",
              "</style>\n",
              "<table border=\"1\" class=\"dataframe\">\n",
              "  <thead>\n",
              "    <tr style=\"text-align: right;\">\n",
              "      <th>Predicted</th>\n",
              "      <th>1</th>\n",
              "      <th>2</th>\n",
              "      <th>3</th>\n",
              "      <th>4</th>\n",
              "      <th>5</th>\n",
              "      <th>6</th>\n",
              "      <th>All</th>\n",
              "    </tr>\n",
              "    <tr>\n",
              "      <th>Actual</th>\n",
              "      <th></th>\n",
              "      <th></th>\n",
              "      <th></th>\n",
              "      <th></th>\n",
              "      <th></th>\n",
              "      <th></th>\n",
              "      <th></th>\n",
              "    </tr>\n",
              "  </thead>\n",
              "  <tbody>\n",
              "    <tr>\n",
              "      <th>1</th>\n",
              "      <td>1475</td>\n",
              "      <td>1</td>\n",
              "      <td>0</td>\n",
              "      <td>3</td>\n",
              "      <td>1</td>\n",
              "      <td>0</td>\n",
              "      <td>1480</td>\n",
              "    </tr>\n",
              "    <tr>\n",
              "      <th>2</th>\n",
              "      <td>1</td>\n",
              "      <td>10856</td>\n",
              "      <td>2</td>\n",
              "      <td>3</td>\n",
              "      <td>2</td>\n",
              "      <td>22</td>\n",
              "      <td>10886</td>\n",
              "    </tr>\n",
              "    <tr>\n",
              "      <th>3</th>\n",
              "      <td>0</td>\n",
              "      <td>0</td>\n",
              "      <td>1380</td>\n",
              "      <td>0</td>\n",
              "      <td>4</td>\n",
              "      <td>0</td>\n",
              "      <td>1384</td>\n",
              "    </tr>\n",
              "    <tr>\n",
              "      <th>4</th>\n",
              "      <td>11</td>\n",
              "      <td>2</td>\n",
              "      <td>9</td>\n",
              "      <td>10819</td>\n",
              "      <td>8</td>\n",
              "      <td>0</td>\n",
              "      <td>10849</td>\n",
              "    </tr>\n",
              "    <tr>\n",
              "      <th>5</th>\n",
              "      <td>0</td>\n",
              "      <td>0</td>\n",
              "      <td>0</td>\n",
              "      <td>0</td>\n",
              "      <td>2778</td>\n",
              "      <td>0</td>\n",
              "      <td>2778</td>\n",
              "    </tr>\n",
              "    <tr>\n",
              "      <th>6</th>\n",
              "      <td>0</td>\n",
              "      <td>8</td>\n",
              "      <td>0</td>\n",
              "      <td>0</td>\n",
              "      <td>0</td>\n",
              "      <td>1879</td>\n",
              "      <td>1887</td>\n",
              "    </tr>\n",
              "    <tr>\n",
              "      <th>All</th>\n",
              "      <td>1487</td>\n",
              "      <td>10867</td>\n",
              "      <td>1391</td>\n",
              "      <td>10825</td>\n",
              "      <td>2793</td>\n",
              "      <td>1901</td>\n",
              "      <td>29264</td>\n",
              "    </tr>\n",
              "  </tbody>\n",
              "</table>\n",
              "</div>\n",
              "      <button class=\"colab-df-convert\" onclick=\"convertToInteractive('df-3bc5f167-d1d7-4e8e-86b6-4031485cf188')\"\n",
              "              title=\"Convert this dataframe to an interactive table.\"\n",
              "              style=\"display:none;\">\n",
              "        \n",
              "  <svg xmlns=\"http://www.w3.org/2000/svg\" height=\"24px\"viewBox=\"0 0 24 24\"\n",
              "       width=\"24px\">\n",
              "    <path d=\"M0 0h24v24H0V0z\" fill=\"none\"/>\n",
              "    <path d=\"M18.56 5.44l.94 2.06.94-2.06 2.06-.94-2.06-.94-.94-2.06-.94 2.06-2.06.94zm-11 1L8.5 8.5l.94-2.06 2.06-.94-2.06-.94L8.5 2.5l-.94 2.06-2.06.94zm10 10l.94 2.06.94-2.06 2.06-.94-2.06-.94-.94-2.06-.94 2.06-2.06.94z\"/><path d=\"M17.41 7.96l-1.37-1.37c-.4-.4-.92-.59-1.43-.59-.52 0-1.04.2-1.43.59L10.3 9.45l-7.72 7.72c-.78.78-.78 2.05 0 2.83L4 21.41c.39.39.9.59 1.41.59.51 0 1.02-.2 1.41-.59l7.78-7.78 2.81-2.81c.8-.78.8-2.07 0-2.86zM5.41 20L4 18.59l7.72-7.72 1.47 1.35L5.41 20z\"/>\n",
              "  </svg>\n",
              "      </button>\n",
              "      \n",
              "  <style>\n",
              "    .colab-df-container {\n",
              "      display:flex;\n",
              "      flex-wrap:wrap;\n",
              "      gap: 12px;\n",
              "    }\n",
              "\n",
              "    .colab-df-convert {\n",
              "      background-color: #E8F0FE;\n",
              "      border: none;\n",
              "      border-radius: 50%;\n",
              "      cursor: pointer;\n",
              "      display: none;\n",
              "      fill: #1967D2;\n",
              "      height: 32px;\n",
              "      padding: 0 0 0 0;\n",
              "      width: 32px;\n",
              "    }\n",
              "\n",
              "    .colab-df-convert:hover {\n",
              "      background-color: #E2EBFA;\n",
              "      box-shadow: 0px 1px 2px rgba(60, 64, 67, 0.3), 0px 1px 3px 1px rgba(60, 64, 67, 0.15);\n",
              "      fill: #174EA6;\n",
              "    }\n",
              "\n",
              "    [theme=dark] .colab-df-convert {\n",
              "      background-color: #3B4455;\n",
              "      fill: #D2E3FC;\n",
              "    }\n",
              "\n",
              "    [theme=dark] .colab-df-convert:hover {\n",
              "      background-color: #434B5C;\n",
              "      box-shadow: 0px 1px 3px 1px rgba(0, 0, 0, 0.15);\n",
              "      filter: drop-shadow(0px 1px 2px rgba(0, 0, 0, 0.3));\n",
              "      fill: #FFFFFF;\n",
              "    }\n",
              "  </style>\n",
              "\n",
              "      <script>\n",
              "        const buttonEl =\n",
              "          document.querySelector('#df-3bc5f167-d1d7-4e8e-86b6-4031485cf188 button.colab-df-convert');\n",
              "        buttonEl.style.display =\n",
              "          google.colab.kernel.accessAllowed ? 'block' : 'none';\n",
              "\n",
              "        async function convertToInteractive(key) {\n",
              "          const element = document.querySelector('#df-3bc5f167-d1d7-4e8e-86b6-4031485cf188');\n",
              "          const dataTable =\n",
              "            await google.colab.kernel.invokeFunction('convertToInteractive',\n",
              "                                                     [key], {});\n",
              "          if (!dataTable) return;\n",
              "\n",
              "          const docLinkHtml = 'Like what you see? Visit the ' +\n",
              "            '<a target=\"_blank\" href=https://colab.research.google.com/notebooks/data_table.ipynb>data table notebook</a>'\n",
              "            + ' to learn more about interactive tables.';\n",
              "          element.innerHTML = '';\n",
              "          dataTable['output_type'] = 'display_data';\n",
              "          await google.colab.output.renderOutput(dataTable, element);\n",
              "          const docLink = document.createElement('div');\n",
              "          docLink.innerHTML = docLinkHtml;\n",
              "          element.appendChild(docLink);\n",
              "        }\n",
              "      </script>\n",
              "    </div>\n",
              "  </div>\n",
              "  "
            ]
          },
          "metadata": {},
          "execution_count": 33
        }
      ]
    }
  ]
}